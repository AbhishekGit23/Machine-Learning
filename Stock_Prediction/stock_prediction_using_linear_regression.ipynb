{
  "metadata": {
    "kernelspec": {
      "language": "python",
      "display_name": "Python 3",
      "name": "python3"
    },
    "language_info": {
      "pygments_lexer": "ipython3",
      "nbconvert_exporter": "python",
      "version": "3.6.4",
      "file_extension": ".py",
      "codemirror_mode": {
        "name": "ipython",
        "version": 3
      },
      "name": "python",
      "mimetype": "text/x-python"
    },
    "colab": {
      "provenance": []
    }
  },
  "nbformat_minor": 0,
  "nbformat": 4,
  "cells": [
    {
      "cell_type": "markdown",
      "source": [
        "### This is a Starter Notebook for Stock Price Prediction using Linear Regression\n",
        "\n"
      ],
      "metadata": {
        "id": "7tMtmEJKxPwI"
      }
    },
    {
      "cell_type": "markdown",
      "source": [
        "### About the Dataset - \n",
        "The dataset has around 60 features which includes features extracted from OHLC, other index prices such as QQQ(Nasdaq-100 ETF) & S&P 500, technical Indicators such as Bollinger bands, EMA(Exponential Moving Averages, Stocastic %K oscillator, RSI etc)\n",
        "\n",
        "Furthermore, I have created lagged features from previous day price data as we know previous day prices affect the future stock price. \n",
        "\n",
        "Then, the data has date features which specifies, if its a leap year, if its month start or end, Quarter start or end, etc. \n",
        "\n",
        "\n",
        "All of these features have something to offer for forcasting. Some tells us about the trend, some gives us a signal if the stock is overbought or oversold, some portrays the strength of the price trend.\n"
      ],
      "metadata": {
        "id": "QfmIW-C7xPwK"
      }
    },
    {
      "cell_type": "markdown",
      "source": [
        "\n",
        "In this notebook, I will analyse the data and create a basic Linear regression model to forecast Stock Prices. \n",
        "In future notebooks, I will use other algorithms like Random Forest, XGBoost and LSTM for this task. \n"
      ],
      "metadata": {
        "id": "e43JBf6-xPwL"
      }
    },
    {
      "cell_type": "markdown",
      "source": [
        "I will also create a Notebook explaining how I have extracted this data using only OHLC(Open High Low Close) data."
      ],
      "metadata": {
        "id": "bzSJXQ3SxPwL"
      }
    },
    {
      "cell_type": "code",
      "source": [
        "# Importing necessary libraries\n",
        "import pandas as pd\n",
        "import matplotlib.pyplot as plt\n",
        "from pylab import rcParams\n",
        "import numpy as np\n",
        "import seaborn as sns\n",
        "import os\n",
        "\n",
        "from sklearn.ensemble import RandomForestRegressor\n",
        "from sklearn.model_selection import cross_val_score, train_test_split, GridSearchCV\n",
        "from sklearn.feature_selection import RFECV, SelectFromModel, SelectKBest\n",
        "from sklearn.preprocessing import StandardScaler\n",
        "from sklearn import metrics\n",
        "%matplotlib inline\n"
      ],
      "metadata": {
        "_uuid": "8f2839f25d086af736a60e9eeb907d3b93b6e0e5",
        "_cell_guid": "b1076dfc-b9ad-4769-8c92-a6c4dae69d19",
        "trusted": true,
        "id": "RTr_RGVjxPwM"
      },
      "execution_count": 62,
      "outputs": []
    },
    {
      "cell_type": "markdown",
      "source": [
        "### Loading data\n",
        "\n",
        "I will use the Apple Stock Data for this notebook"
      ],
      "metadata": {
        "id": "lGLfnLgsxPwN"
      }
    },
    {
      "cell_type": "code",
      "source": [
        "Stock = pd.read_csv('/content/AAPL.csv')\n",
        "df_Stock = Stock"
      ],
      "metadata": {
        "trusted": true,
        "id": "4AQOIyJCxPwN"
      },
      "execution_count": 63,
      "outputs": []
    },
    {
      "cell_type": "code",
      "source": [
        "# Renaming column name Close(t) to Close\n",
        "df_Stock = df_Stock.rename(columns={'Close(t)':'Close'})"
      ],
      "metadata": {
        "id": "LWa1p7EGzTPs"
      },
      "execution_count": 64,
      "outputs": []
    },
    {
      "cell_type": "code",
      "source": [
        "# first 5 rows of data\n",
        "df_Stock.head()"
      ],
      "metadata": {
        "colab": {
          "base_uri": "https://localhost:8080/",
          "height": 236
        },
        "id": "ijdr7-pUzkIG",
        "outputId": "e1dd0ef9-1705-461f-f723-61e3f78ca0fa"
      },
      "execution_count": 65,
      "outputs": [
        {
          "output_type": "execute_result",
          "data": {
            "text/plain": [
              "         Date  Open  High   Low  Close     Volume      SD20  Upper_Band  \\\n",
              "0  2005-10-17  6.66  6.69  6.50   6.60  154208600  0.169237    6.827473   \n",
              "1  2005-10-18  6.57  6.66  6.44   6.45  152397000  0.168339    6.819677   \n",
              "2  2005-10-19  6.43  6.78  6.32   6.78  252170800  0.180306    6.861112   \n",
              "3  2005-10-20  6.72  6.97  6.71   6.93  339440500  0.202674    6.931847   \n",
              "4  2005-10-21  7.02  7.03  6.83   6.87  199181500  0.216680    6.974860   \n",
              "\n",
              "   Lower_Band  S_Close(t-1)  ...  QQQ_MA10  QQQ_MA20  QQQ_MA50  SnP_Close  \\\n",
              "0    6.150527          6.67  ...    33.692   33.9970   34.2690    1190.10   \n",
              "1    6.146323          6.60  ...    33.570   33.9525   34.2466    1178.14   \n",
              "2    6.139888          6.45  ...    33.562   33.9600   34.2330    1195.76   \n",
              "3    6.121153          6.78  ...    33.567   33.9455   34.2190    1177.80   \n",
              "4    6.108140          6.93  ...    33.586   33.9365   34.2034    1179.59   \n",
              "\n",
              "   SnP(t-1))  SnP(t-5)  DJIA_Close  DJIA(t-1))  DJIA(t-5)  Close_forcast  \n",
              "0    1186.57   1187.33    10348.10    10287.34   10238.76           6.45  \n",
              "1    1190.10   1184.87    10285.26    10348.10   10253.17           6.78  \n",
              "2    1178.14   1177.68    10414.13    10285.26   10216.91           6.93  \n",
              "3    1195.76   1176.84    10281.10    10414.13   10216.59           6.87  \n",
              "4    1177.80   1186.57    10215.22    10281.10   10287.34           7.01  \n",
              "\n",
              "[5 rows x 64 columns]"
            ],
            "text/html": [
              "\n",
              "  <div id=\"df-114b30da-d9dc-4ed6-9266-e514cb1fa068\">\n",
              "    <div class=\"colab-df-container\">\n",
              "      <div>\n",
              "<style scoped>\n",
              "    .dataframe tbody tr th:only-of-type {\n",
              "        vertical-align: middle;\n",
              "    }\n",
              "\n",
              "    .dataframe tbody tr th {\n",
              "        vertical-align: top;\n",
              "    }\n",
              "\n",
              "    .dataframe thead th {\n",
              "        text-align: right;\n",
              "    }\n",
              "</style>\n",
              "<table border=\"1\" class=\"dataframe\">\n",
              "  <thead>\n",
              "    <tr style=\"text-align: right;\">\n",
              "      <th></th>\n",
              "      <th>Date</th>\n",
              "      <th>Open</th>\n",
              "      <th>High</th>\n",
              "      <th>Low</th>\n",
              "      <th>Close</th>\n",
              "      <th>Volume</th>\n",
              "      <th>SD20</th>\n",
              "      <th>Upper_Band</th>\n",
              "      <th>Lower_Band</th>\n",
              "      <th>S_Close(t-1)</th>\n",
              "      <th>...</th>\n",
              "      <th>QQQ_MA10</th>\n",
              "      <th>QQQ_MA20</th>\n",
              "      <th>QQQ_MA50</th>\n",
              "      <th>SnP_Close</th>\n",
              "      <th>SnP(t-1))</th>\n",
              "      <th>SnP(t-5)</th>\n",
              "      <th>DJIA_Close</th>\n",
              "      <th>DJIA(t-1))</th>\n",
              "      <th>DJIA(t-5)</th>\n",
              "      <th>Close_forcast</th>\n",
              "    </tr>\n",
              "  </thead>\n",
              "  <tbody>\n",
              "    <tr>\n",
              "      <th>0</th>\n",
              "      <td>2005-10-17</td>\n",
              "      <td>6.66</td>\n",
              "      <td>6.69</td>\n",
              "      <td>6.50</td>\n",
              "      <td>6.60</td>\n",
              "      <td>154208600</td>\n",
              "      <td>0.169237</td>\n",
              "      <td>6.827473</td>\n",
              "      <td>6.150527</td>\n",
              "      <td>6.67</td>\n",
              "      <td>...</td>\n",
              "      <td>33.692</td>\n",
              "      <td>33.9970</td>\n",
              "      <td>34.2690</td>\n",
              "      <td>1190.10</td>\n",
              "      <td>1186.57</td>\n",
              "      <td>1187.33</td>\n",
              "      <td>10348.10</td>\n",
              "      <td>10287.34</td>\n",
              "      <td>10238.76</td>\n",
              "      <td>6.45</td>\n",
              "    </tr>\n",
              "    <tr>\n",
              "      <th>1</th>\n",
              "      <td>2005-10-18</td>\n",
              "      <td>6.57</td>\n",
              "      <td>6.66</td>\n",
              "      <td>6.44</td>\n",
              "      <td>6.45</td>\n",
              "      <td>152397000</td>\n",
              "      <td>0.168339</td>\n",
              "      <td>6.819677</td>\n",
              "      <td>6.146323</td>\n",
              "      <td>6.60</td>\n",
              "      <td>...</td>\n",
              "      <td>33.570</td>\n",
              "      <td>33.9525</td>\n",
              "      <td>34.2466</td>\n",
              "      <td>1178.14</td>\n",
              "      <td>1190.10</td>\n",
              "      <td>1184.87</td>\n",
              "      <td>10285.26</td>\n",
              "      <td>10348.10</td>\n",
              "      <td>10253.17</td>\n",
              "      <td>6.78</td>\n",
              "    </tr>\n",
              "    <tr>\n",
              "      <th>2</th>\n",
              "      <td>2005-10-19</td>\n",
              "      <td>6.43</td>\n",
              "      <td>6.78</td>\n",
              "      <td>6.32</td>\n",
              "      <td>6.78</td>\n",
              "      <td>252170800</td>\n",
              "      <td>0.180306</td>\n",
              "      <td>6.861112</td>\n",
              "      <td>6.139888</td>\n",
              "      <td>6.45</td>\n",
              "      <td>...</td>\n",
              "      <td>33.562</td>\n",
              "      <td>33.9600</td>\n",
              "      <td>34.2330</td>\n",
              "      <td>1195.76</td>\n",
              "      <td>1178.14</td>\n",
              "      <td>1177.68</td>\n",
              "      <td>10414.13</td>\n",
              "      <td>10285.26</td>\n",
              "      <td>10216.91</td>\n",
              "      <td>6.93</td>\n",
              "    </tr>\n",
              "    <tr>\n",
              "      <th>3</th>\n",
              "      <td>2005-10-20</td>\n",
              "      <td>6.72</td>\n",
              "      <td>6.97</td>\n",
              "      <td>6.71</td>\n",
              "      <td>6.93</td>\n",
              "      <td>339440500</td>\n",
              "      <td>0.202674</td>\n",
              "      <td>6.931847</td>\n",
              "      <td>6.121153</td>\n",
              "      <td>6.78</td>\n",
              "      <td>...</td>\n",
              "      <td>33.567</td>\n",
              "      <td>33.9455</td>\n",
              "      <td>34.2190</td>\n",
              "      <td>1177.80</td>\n",
              "      <td>1195.76</td>\n",
              "      <td>1176.84</td>\n",
              "      <td>10281.10</td>\n",
              "      <td>10414.13</td>\n",
              "      <td>10216.59</td>\n",
              "      <td>6.87</td>\n",
              "    </tr>\n",
              "    <tr>\n",
              "      <th>4</th>\n",
              "      <td>2005-10-21</td>\n",
              "      <td>7.02</td>\n",
              "      <td>7.03</td>\n",
              "      <td>6.83</td>\n",
              "      <td>6.87</td>\n",
              "      <td>199181500</td>\n",
              "      <td>0.216680</td>\n",
              "      <td>6.974860</td>\n",
              "      <td>6.108140</td>\n",
              "      <td>6.93</td>\n",
              "      <td>...</td>\n",
              "      <td>33.586</td>\n",
              "      <td>33.9365</td>\n",
              "      <td>34.2034</td>\n",
              "      <td>1179.59</td>\n",
              "      <td>1177.80</td>\n",
              "      <td>1186.57</td>\n",
              "      <td>10215.22</td>\n",
              "      <td>10281.10</td>\n",
              "      <td>10287.34</td>\n",
              "      <td>7.01</td>\n",
              "    </tr>\n",
              "  </tbody>\n",
              "</table>\n",
              "<p>5 rows × 64 columns</p>\n",
              "</div>\n",
              "      <button class=\"colab-df-convert\" onclick=\"convertToInteractive('df-114b30da-d9dc-4ed6-9266-e514cb1fa068')\"\n",
              "              title=\"Convert this dataframe to an interactive table.\"\n",
              "              style=\"display:none;\">\n",
              "        \n",
              "  <svg xmlns=\"http://www.w3.org/2000/svg\" height=\"24px\"viewBox=\"0 0 24 24\"\n",
              "       width=\"24px\">\n",
              "    <path d=\"M0 0h24v24H0V0z\" fill=\"none\"/>\n",
              "    <path d=\"M18.56 5.44l.94 2.06.94-2.06 2.06-.94-2.06-.94-.94-2.06-.94 2.06-2.06.94zm-11 1L8.5 8.5l.94-2.06 2.06-.94-2.06-.94L8.5 2.5l-.94 2.06-2.06.94zm10 10l.94 2.06.94-2.06 2.06-.94-2.06-.94-.94-2.06-.94 2.06-2.06.94z\"/><path d=\"M17.41 7.96l-1.37-1.37c-.4-.4-.92-.59-1.43-.59-.52 0-1.04.2-1.43.59L10.3 9.45l-7.72 7.72c-.78.78-.78 2.05 0 2.83L4 21.41c.39.39.9.59 1.41.59.51 0 1.02-.2 1.41-.59l7.78-7.78 2.81-2.81c.8-.78.8-2.07 0-2.86zM5.41 20L4 18.59l7.72-7.72 1.47 1.35L5.41 20z\"/>\n",
              "  </svg>\n",
              "      </button>\n",
              "      \n",
              "  <style>\n",
              "    .colab-df-container {\n",
              "      display:flex;\n",
              "      flex-wrap:wrap;\n",
              "      gap: 12px;\n",
              "    }\n",
              "\n",
              "    .colab-df-convert {\n",
              "      background-color: #E8F0FE;\n",
              "      border: none;\n",
              "      border-radius: 50%;\n",
              "      cursor: pointer;\n",
              "      display: none;\n",
              "      fill: #1967D2;\n",
              "      height: 32px;\n",
              "      padding: 0 0 0 0;\n",
              "      width: 32px;\n",
              "    }\n",
              "\n",
              "    .colab-df-convert:hover {\n",
              "      background-color: #E2EBFA;\n",
              "      box-shadow: 0px 1px 2px rgba(60, 64, 67, 0.3), 0px 1px 3px 1px rgba(60, 64, 67, 0.15);\n",
              "      fill: #174EA6;\n",
              "    }\n",
              "\n",
              "    [theme=dark] .colab-df-convert {\n",
              "      background-color: #3B4455;\n",
              "      fill: #D2E3FC;\n",
              "    }\n",
              "\n",
              "    [theme=dark] .colab-df-convert:hover {\n",
              "      background-color: #434B5C;\n",
              "      box-shadow: 0px 1px 3px 1px rgba(0, 0, 0, 0.15);\n",
              "      filter: drop-shadow(0px 1px 2px rgba(0, 0, 0, 0.3));\n",
              "      fill: #FFFFFF;\n",
              "    }\n",
              "  </style>\n",
              "\n",
              "      <script>\n",
              "        const buttonEl =\n",
              "          document.querySelector('#df-114b30da-d9dc-4ed6-9266-e514cb1fa068 button.colab-df-convert');\n",
              "        buttonEl.style.display =\n",
              "          google.colab.kernel.accessAllowed ? 'block' : 'none';\n",
              "\n",
              "        async function convertToInteractive(key) {\n",
              "          const element = document.querySelector('#df-114b30da-d9dc-4ed6-9266-e514cb1fa068');\n",
              "          const dataTable =\n",
              "            await google.colab.kernel.invokeFunction('convertToInteractive',\n",
              "                                                     [key], {});\n",
              "          if (!dataTable) return;\n",
              "\n",
              "          const docLinkHtml = 'Like what you see? Visit the ' +\n",
              "            '<a target=\"_blank\" href=https://colab.research.google.com/notebooks/data_table.ipynb>data table notebook</a>'\n",
              "            + ' to learn more about interactive tables.';\n",
              "          element.innerHTML = '';\n",
              "          dataTable['output_type'] = 'display_data';\n",
              "          await google.colab.output.renderOutput(dataTable, element);\n",
              "          const docLink = document.createElement('div');\n",
              "          docLink.innerHTML = docLinkHtml;\n",
              "          element.appendChild(docLink);\n",
              "        }\n",
              "      </script>\n",
              "    </div>\n",
              "  </div>\n",
              "  "
            ]
          },
          "metadata": {},
          "execution_count": 65
        }
      ]
    },
    {
      "cell_type": "code",
      "source": [
        "# last 5 rows of the data\n",
        "df_Stock.tail(5)"
      ],
      "metadata": {
        "colab": {
          "base_uri": "https://localhost:8080/",
          "height": 236
        },
        "id": "gA8JDInTzsJj",
        "outputId": "745a862c-7f06-4172-9f84-2e58947278fc"
      },
      "execution_count": 66,
      "outputs": [
        {
          "output_type": "execute_result",
          "data": {
            "text/plain": [
              "            Date    Open    High     Low   Close    Volume       SD20  \\\n",
              "3727  2020-08-07  452.82  454.70  441.17  444.45  49453300  27.954399   \n",
              "3728  2020-08-10  450.40  455.10  440.00  450.91  53100900  29.847338   \n",
              "3729  2020-08-11  447.88  449.93  436.43  437.50  46975600  30.576290   \n",
              "3730  2020-08-12  441.99  453.10  441.19  452.04  41486200  32.050532   \n",
              "3731  2020-08-13  457.72  464.17  455.71  460.04  52520500  33.532634   \n",
              "\n",
              "      Upper_Band  Lower_Band  S_Close(t-1)  ...  QQQ_MA10  QQQ_MA20  QQQ_MA50  \\\n",
              "3727  455.316298  343.498702        454.79  ...   266.054  263.4085  252.2098   \n",
              "3728  462.586675  343.197325        444.45  ...   267.073  263.9970  252.9570   \n",
              "3729  466.543079  344.237921        450.91  ...   267.911  264.2380  253.5878   \n",
              "3730  472.583564  344.381436        437.50  ...   269.120  264.7860  254.3206   \n",
              "3731  479.279768  345.149232        452.04  ...   270.255  265.4540  255.0446   \n",
              "\n",
              "      SnP_Close  SnP(t-1))  SnP(t-5)  DJIA_Close  DJIA(t-1))  DJIA(t-5)  \\\n",
              "3727    3351.28    3349.16   3271.12    27433.48    27386.98   26428.32   \n",
              "3728    3360.47    3351.28   3294.61    27791.44    27433.48   26664.40   \n",
              "3729    3333.69    3360.47   3306.51    27686.91    27791.44   26828.47   \n",
              "3730    3380.35    3333.69   3327.77    27976.84    27686.91   27201.52   \n",
              "3731    3373.43    3380.35   3349.16    27896.72    27976.84   27386.98   \n",
              "\n",
              "      Close_forcast  \n",
              "3727         450.91  \n",
              "3728         437.50  \n",
              "3729         452.04  \n",
              "3730         460.04  \n",
              "3731         459.63  \n",
              "\n",
              "[5 rows x 64 columns]"
            ],
            "text/html": [
              "\n",
              "  <div id=\"df-39f40131-54fa-4fb9-bf15-44f2b54104fc\">\n",
              "    <div class=\"colab-df-container\">\n",
              "      <div>\n",
              "<style scoped>\n",
              "    .dataframe tbody tr th:only-of-type {\n",
              "        vertical-align: middle;\n",
              "    }\n",
              "\n",
              "    .dataframe tbody tr th {\n",
              "        vertical-align: top;\n",
              "    }\n",
              "\n",
              "    .dataframe thead th {\n",
              "        text-align: right;\n",
              "    }\n",
              "</style>\n",
              "<table border=\"1\" class=\"dataframe\">\n",
              "  <thead>\n",
              "    <tr style=\"text-align: right;\">\n",
              "      <th></th>\n",
              "      <th>Date</th>\n",
              "      <th>Open</th>\n",
              "      <th>High</th>\n",
              "      <th>Low</th>\n",
              "      <th>Close</th>\n",
              "      <th>Volume</th>\n",
              "      <th>SD20</th>\n",
              "      <th>Upper_Band</th>\n",
              "      <th>Lower_Band</th>\n",
              "      <th>S_Close(t-1)</th>\n",
              "      <th>...</th>\n",
              "      <th>QQQ_MA10</th>\n",
              "      <th>QQQ_MA20</th>\n",
              "      <th>QQQ_MA50</th>\n",
              "      <th>SnP_Close</th>\n",
              "      <th>SnP(t-1))</th>\n",
              "      <th>SnP(t-5)</th>\n",
              "      <th>DJIA_Close</th>\n",
              "      <th>DJIA(t-1))</th>\n",
              "      <th>DJIA(t-5)</th>\n",
              "      <th>Close_forcast</th>\n",
              "    </tr>\n",
              "  </thead>\n",
              "  <tbody>\n",
              "    <tr>\n",
              "      <th>3727</th>\n",
              "      <td>2020-08-07</td>\n",
              "      <td>452.82</td>\n",
              "      <td>454.70</td>\n",
              "      <td>441.17</td>\n",
              "      <td>444.45</td>\n",
              "      <td>49453300</td>\n",
              "      <td>27.954399</td>\n",
              "      <td>455.316298</td>\n",
              "      <td>343.498702</td>\n",
              "      <td>454.79</td>\n",
              "      <td>...</td>\n",
              "      <td>266.054</td>\n",
              "      <td>263.4085</td>\n",
              "      <td>252.2098</td>\n",
              "      <td>3351.28</td>\n",
              "      <td>3349.16</td>\n",
              "      <td>3271.12</td>\n",
              "      <td>27433.48</td>\n",
              "      <td>27386.98</td>\n",
              "      <td>26428.32</td>\n",
              "      <td>450.91</td>\n",
              "    </tr>\n",
              "    <tr>\n",
              "      <th>3728</th>\n",
              "      <td>2020-08-10</td>\n",
              "      <td>450.40</td>\n",
              "      <td>455.10</td>\n",
              "      <td>440.00</td>\n",
              "      <td>450.91</td>\n",
              "      <td>53100900</td>\n",
              "      <td>29.847338</td>\n",
              "      <td>462.586675</td>\n",
              "      <td>343.197325</td>\n",
              "      <td>444.45</td>\n",
              "      <td>...</td>\n",
              "      <td>267.073</td>\n",
              "      <td>263.9970</td>\n",
              "      <td>252.9570</td>\n",
              "      <td>3360.47</td>\n",
              "      <td>3351.28</td>\n",
              "      <td>3294.61</td>\n",
              "      <td>27791.44</td>\n",
              "      <td>27433.48</td>\n",
              "      <td>26664.40</td>\n",
              "      <td>437.50</td>\n",
              "    </tr>\n",
              "    <tr>\n",
              "      <th>3729</th>\n",
              "      <td>2020-08-11</td>\n",
              "      <td>447.88</td>\n",
              "      <td>449.93</td>\n",
              "      <td>436.43</td>\n",
              "      <td>437.50</td>\n",
              "      <td>46975600</td>\n",
              "      <td>30.576290</td>\n",
              "      <td>466.543079</td>\n",
              "      <td>344.237921</td>\n",
              "      <td>450.91</td>\n",
              "      <td>...</td>\n",
              "      <td>267.911</td>\n",
              "      <td>264.2380</td>\n",
              "      <td>253.5878</td>\n",
              "      <td>3333.69</td>\n",
              "      <td>3360.47</td>\n",
              "      <td>3306.51</td>\n",
              "      <td>27686.91</td>\n",
              "      <td>27791.44</td>\n",
              "      <td>26828.47</td>\n",
              "      <td>452.04</td>\n",
              "    </tr>\n",
              "    <tr>\n",
              "      <th>3730</th>\n",
              "      <td>2020-08-12</td>\n",
              "      <td>441.99</td>\n",
              "      <td>453.10</td>\n",
              "      <td>441.19</td>\n",
              "      <td>452.04</td>\n",
              "      <td>41486200</td>\n",
              "      <td>32.050532</td>\n",
              "      <td>472.583564</td>\n",
              "      <td>344.381436</td>\n",
              "      <td>437.50</td>\n",
              "      <td>...</td>\n",
              "      <td>269.120</td>\n",
              "      <td>264.7860</td>\n",
              "      <td>254.3206</td>\n",
              "      <td>3380.35</td>\n",
              "      <td>3333.69</td>\n",
              "      <td>3327.77</td>\n",
              "      <td>27976.84</td>\n",
              "      <td>27686.91</td>\n",
              "      <td>27201.52</td>\n",
              "      <td>460.04</td>\n",
              "    </tr>\n",
              "    <tr>\n",
              "      <th>3731</th>\n",
              "      <td>2020-08-13</td>\n",
              "      <td>457.72</td>\n",
              "      <td>464.17</td>\n",
              "      <td>455.71</td>\n",
              "      <td>460.04</td>\n",
              "      <td>52520500</td>\n",
              "      <td>33.532634</td>\n",
              "      <td>479.279768</td>\n",
              "      <td>345.149232</td>\n",
              "      <td>452.04</td>\n",
              "      <td>...</td>\n",
              "      <td>270.255</td>\n",
              "      <td>265.4540</td>\n",
              "      <td>255.0446</td>\n",
              "      <td>3373.43</td>\n",
              "      <td>3380.35</td>\n",
              "      <td>3349.16</td>\n",
              "      <td>27896.72</td>\n",
              "      <td>27976.84</td>\n",
              "      <td>27386.98</td>\n",
              "      <td>459.63</td>\n",
              "    </tr>\n",
              "  </tbody>\n",
              "</table>\n",
              "<p>5 rows × 64 columns</p>\n",
              "</div>\n",
              "      <button class=\"colab-df-convert\" onclick=\"convertToInteractive('df-39f40131-54fa-4fb9-bf15-44f2b54104fc')\"\n",
              "              title=\"Convert this dataframe to an interactive table.\"\n",
              "              style=\"display:none;\">\n",
              "        \n",
              "  <svg xmlns=\"http://www.w3.org/2000/svg\" height=\"24px\"viewBox=\"0 0 24 24\"\n",
              "       width=\"24px\">\n",
              "    <path d=\"M0 0h24v24H0V0z\" fill=\"none\"/>\n",
              "    <path d=\"M18.56 5.44l.94 2.06.94-2.06 2.06-.94-2.06-.94-.94-2.06-.94 2.06-2.06.94zm-11 1L8.5 8.5l.94-2.06 2.06-.94-2.06-.94L8.5 2.5l-.94 2.06-2.06.94zm10 10l.94 2.06.94-2.06 2.06-.94-2.06-.94-.94-2.06-.94 2.06-2.06.94z\"/><path d=\"M17.41 7.96l-1.37-1.37c-.4-.4-.92-.59-1.43-.59-.52 0-1.04.2-1.43.59L10.3 9.45l-7.72 7.72c-.78.78-.78 2.05 0 2.83L4 21.41c.39.39.9.59 1.41.59.51 0 1.02-.2 1.41-.59l7.78-7.78 2.81-2.81c.8-.78.8-2.07 0-2.86zM5.41 20L4 18.59l7.72-7.72 1.47 1.35L5.41 20z\"/>\n",
              "  </svg>\n",
              "      </button>\n",
              "      \n",
              "  <style>\n",
              "    .colab-df-container {\n",
              "      display:flex;\n",
              "      flex-wrap:wrap;\n",
              "      gap: 12px;\n",
              "    }\n",
              "\n",
              "    .colab-df-convert {\n",
              "      background-color: #E8F0FE;\n",
              "      border: none;\n",
              "      border-radius: 50%;\n",
              "      cursor: pointer;\n",
              "      display: none;\n",
              "      fill: #1967D2;\n",
              "      height: 32px;\n",
              "      padding: 0 0 0 0;\n",
              "      width: 32px;\n",
              "    }\n",
              "\n",
              "    .colab-df-convert:hover {\n",
              "      background-color: #E2EBFA;\n",
              "      box-shadow: 0px 1px 2px rgba(60, 64, 67, 0.3), 0px 1px 3px 1px rgba(60, 64, 67, 0.15);\n",
              "      fill: #174EA6;\n",
              "    }\n",
              "\n",
              "    [theme=dark] .colab-df-convert {\n",
              "      background-color: #3B4455;\n",
              "      fill: #D2E3FC;\n",
              "    }\n",
              "\n",
              "    [theme=dark] .colab-df-convert:hover {\n",
              "      background-color: #434B5C;\n",
              "      box-shadow: 0px 1px 3px 1px rgba(0, 0, 0, 0.15);\n",
              "      filter: drop-shadow(0px 1px 2px rgba(0, 0, 0, 0.3));\n",
              "      fill: #FFFFFF;\n",
              "    }\n",
              "  </style>\n",
              "\n",
              "      <script>\n",
              "        const buttonEl =\n",
              "          document.querySelector('#df-39f40131-54fa-4fb9-bf15-44f2b54104fc button.colab-df-convert');\n",
              "        buttonEl.style.display =\n",
              "          google.colab.kernel.accessAllowed ? 'block' : 'none';\n",
              "\n",
              "        async function convertToInteractive(key) {\n",
              "          const element = document.querySelector('#df-39f40131-54fa-4fb9-bf15-44f2b54104fc');\n",
              "          const dataTable =\n",
              "            await google.colab.kernel.invokeFunction('convertToInteractive',\n",
              "                                                     [key], {});\n",
              "          if (!dataTable) return;\n",
              "\n",
              "          const docLinkHtml = 'Like what you see? Visit the ' +\n",
              "            '<a target=\"_blank\" href=https://colab.research.google.com/notebooks/data_table.ipynb>data table notebook</a>'\n",
              "            + ' to learn more about interactive tables.';\n",
              "          element.innerHTML = '';\n",
              "          dataTable['output_type'] = 'display_data';\n",
              "          await google.colab.output.renderOutput(dataTable, element);\n",
              "          const docLink = document.createElement('div');\n",
              "          docLink.innerHTML = docLinkHtml;\n",
              "          element.appendChild(docLink);\n",
              "        }\n",
              "      </script>\n",
              "    </div>\n",
              "  </div>\n",
              "  "
            ]
          },
          "metadata": {},
          "execution_count": 66
        }
      ]
    },
    {
      "cell_type": "markdown",
      "source": [
        "### EDA"
      ],
      "metadata": {
        "id": "QjJgiGX7z4oE"
      }
    },
    {
      "cell_type": "code",
      "source": [
        "df_Stock.shape"
      ],
      "metadata": {
        "trusted": true,
        "colab": {
          "base_uri": "https://localhost:8080/"
        },
        "id": "iaSEaml9xPwN",
        "outputId": "c2e03e29-54ae-4344-e8ff-653753aa4fff"
      },
      "execution_count": 67,
      "outputs": [
        {
          "output_type": "execute_result",
          "data": {
            "text/plain": [
              "(3732, 64)"
            ]
          },
          "metadata": {},
          "execution_count": 67
        }
      ]
    },
    {
      "cell_type": "code",
      "source": [
        "df_Stock.columns"
      ],
      "metadata": {
        "trusted": true,
        "colab": {
          "base_uri": "https://localhost:8080/"
        },
        "id": "fvh3Dno9xPwO",
        "outputId": "d6967c74-3d22-4d7c-958a-fdf69106885c"
      },
      "execution_count": 68,
      "outputs": [
        {
          "output_type": "execute_result",
          "data": {
            "text/plain": [
              "Index(['Date', 'Open', 'High', 'Low', 'Close', 'Volume', 'SD20', 'Upper_Band',\n",
              "       'Lower_Band', 'S_Close(t-1)', 'S_Close(t-2)', 'S_Close(t-3)',\n",
              "       'S_Close(t-5)', 'S_Open(t-1)', 'MA5', 'MA10', 'MA20', 'MA50', 'MA200',\n",
              "       'EMA10', 'EMA20', 'EMA50', 'EMA100', 'EMA200', 'MACD', 'MACD_EMA',\n",
              "       'ATR', 'ADX', 'CCI', 'ROC', 'RSI', 'William%R', 'SO%K', 'STD5',\n",
              "       'ForceIndex1', 'ForceIndex20', 'Date_col', 'Day', 'DayofWeek',\n",
              "       'DayofYear', 'Week', 'Is_month_end', 'Is_month_start', 'Is_quarter_end',\n",
              "       'Is_quarter_start', 'Is_year_end', 'Is_year_start', 'Is_leap_year',\n",
              "       'Year', 'Month', 'QQQ_Close', 'QQQ(t-1)', 'QQQ(t-2)', 'QQQ(t-5)',\n",
              "       'QQQ_MA10', 'QQQ_MA20', 'QQQ_MA50', 'SnP_Close', 'SnP(t-1))',\n",
              "       'SnP(t-5)', 'DJIA_Close', 'DJIA(t-1))', 'DJIA(t-5)', 'Close_forcast'],\n",
              "      dtype='object')"
            ]
          },
          "metadata": {},
          "execution_count": 68
        }
      ]
    },
    {
      "cell_type": "code",
      "source": [
        "df_Stock=df_Stock.drop(['Date'], axis=1)"
      ],
      "metadata": {
        "id": "f8T9rJcrGjqa"
      },
      "execution_count": 69,
      "outputs": []
    },
    {
      "cell_type": "code",
      "source": [
        "df_Stock.columns"
      ],
      "metadata": {
        "colab": {
          "base_uri": "https://localhost:8080/"
        },
        "id": "1FbMPgn_HWQR",
        "outputId": "80a07e2d-69ed-4d4d-f629-56b8767039dc"
      },
      "execution_count": 77,
      "outputs": [
        {
          "output_type": "execute_result",
          "data": {
            "text/plain": [
              "Index(['Open', 'High', 'Low', 'Close', 'Volume', 'SD20', 'Upper_Band',\n",
              "       'Lower_Band', 'S_Close(t-1)', 'S_Close(t-2)', 'S_Close(t-3)',\n",
              "       'S_Close(t-5)', 'S_Open(t-1)', 'MA5', 'MA10', 'MA20', 'MA50', 'MA200',\n",
              "       'EMA10', 'EMA20', 'EMA50', 'EMA100', 'EMA200', 'MACD', 'MACD_EMA',\n",
              "       'ATR', 'ADX', 'CCI', 'ROC', 'RSI', 'William%R', 'SO%K', 'STD5',\n",
              "       'ForceIndex1', 'ForceIndex20', 'Date_col', 'Day', 'DayofWeek',\n",
              "       'DayofYear', 'Week', 'Is_month_end', 'Is_month_start', 'Is_quarter_end',\n",
              "       'Is_quarter_start', 'Is_year_end', 'Is_year_start', 'Is_leap_year',\n",
              "       'Year', 'Month', 'QQQ_Close', 'QQQ(t-1)', 'QQQ(t-2)', 'QQQ(t-5)',\n",
              "       'QQQ_MA10', 'QQQ_MA20', 'QQQ_MA50', 'SnP_Close', 'SnP(t-1))',\n",
              "       'SnP(t-5)', 'DJIA_Close', 'DJIA(t-1))', 'DJIA(t-5)', 'Close_forcast'],\n",
              "      dtype='object')"
            ]
          },
          "metadata": {},
          "execution_count": 77
        }
      ]
    },
    {
      "cell_type": "markdown",
      "source": [
        "## Pivot-Table and its graph"
      ],
      "metadata": {
        "id": "viKJICYt5ydK"
      }
    },
    {
      "cell_type": "code",
      "source": [
        "# pivot table between DayofWeek and mean of Close_forecast in that week\n",
        "df_Stock.groupby('DayofWeek')[['Close_forcast']].mean()"
      ],
      "metadata": {
        "colab": {
          "base_uri": "https://localhost:8080/",
          "height": 238
        },
        "id": "P2OBKeXU3Uyd",
        "outputId": "3c91cbcd-a6fb-4a13-e6ef-438d59fdd35a"
      },
      "execution_count": 70,
      "outputs": [
        {
          "output_type": "execute_result",
          "data": {
            "text/plain": [
              "           Close_forcast\n",
              "DayofWeek               \n",
              "0              87.715164\n",
              "1              87.678914\n",
              "2              86.820326\n",
              "3              87.587636\n",
              "4              87.114626"
            ],
            "text/html": [
              "\n",
              "  <div id=\"df-790491c0-581c-4ef6-9256-a4806e98e1a2\">\n",
              "    <div class=\"colab-df-container\">\n",
              "      <div>\n",
              "<style scoped>\n",
              "    .dataframe tbody tr th:only-of-type {\n",
              "        vertical-align: middle;\n",
              "    }\n",
              "\n",
              "    .dataframe tbody tr th {\n",
              "        vertical-align: top;\n",
              "    }\n",
              "\n",
              "    .dataframe thead th {\n",
              "        text-align: right;\n",
              "    }\n",
              "</style>\n",
              "<table border=\"1\" class=\"dataframe\">\n",
              "  <thead>\n",
              "    <tr style=\"text-align: right;\">\n",
              "      <th></th>\n",
              "      <th>Close_forcast</th>\n",
              "    </tr>\n",
              "    <tr>\n",
              "      <th>DayofWeek</th>\n",
              "      <th></th>\n",
              "    </tr>\n",
              "  </thead>\n",
              "  <tbody>\n",
              "    <tr>\n",
              "      <th>0</th>\n",
              "      <td>87.715164</td>\n",
              "    </tr>\n",
              "    <tr>\n",
              "      <th>1</th>\n",
              "      <td>87.678914</td>\n",
              "    </tr>\n",
              "    <tr>\n",
              "      <th>2</th>\n",
              "      <td>86.820326</td>\n",
              "    </tr>\n",
              "    <tr>\n",
              "      <th>3</th>\n",
              "      <td>87.587636</td>\n",
              "    </tr>\n",
              "    <tr>\n",
              "      <th>4</th>\n",
              "      <td>87.114626</td>\n",
              "    </tr>\n",
              "  </tbody>\n",
              "</table>\n",
              "</div>\n",
              "      <button class=\"colab-df-convert\" onclick=\"convertToInteractive('df-790491c0-581c-4ef6-9256-a4806e98e1a2')\"\n",
              "              title=\"Convert this dataframe to an interactive table.\"\n",
              "              style=\"display:none;\">\n",
              "        \n",
              "  <svg xmlns=\"http://www.w3.org/2000/svg\" height=\"24px\"viewBox=\"0 0 24 24\"\n",
              "       width=\"24px\">\n",
              "    <path d=\"M0 0h24v24H0V0z\" fill=\"none\"/>\n",
              "    <path d=\"M18.56 5.44l.94 2.06.94-2.06 2.06-.94-2.06-.94-.94-2.06-.94 2.06-2.06.94zm-11 1L8.5 8.5l.94-2.06 2.06-.94-2.06-.94L8.5 2.5l-.94 2.06-2.06.94zm10 10l.94 2.06.94-2.06 2.06-.94-2.06-.94-.94-2.06-.94 2.06-2.06.94z\"/><path d=\"M17.41 7.96l-1.37-1.37c-.4-.4-.92-.59-1.43-.59-.52 0-1.04.2-1.43.59L10.3 9.45l-7.72 7.72c-.78.78-.78 2.05 0 2.83L4 21.41c.39.39.9.59 1.41.59.51 0 1.02-.2 1.41-.59l7.78-7.78 2.81-2.81c.8-.78.8-2.07 0-2.86zM5.41 20L4 18.59l7.72-7.72 1.47 1.35L5.41 20z\"/>\n",
              "  </svg>\n",
              "      </button>\n",
              "      \n",
              "  <style>\n",
              "    .colab-df-container {\n",
              "      display:flex;\n",
              "      flex-wrap:wrap;\n",
              "      gap: 12px;\n",
              "    }\n",
              "\n",
              "    .colab-df-convert {\n",
              "      background-color: #E8F0FE;\n",
              "      border: none;\n",
              "      border-radius: 50%;\n",
              "      cursor: pointer;\n",
              "      display: none;\n",
              "      fill: #1967D2;\n",
              "      height: 32px;\n",
              "      padding: 0 0 0 0;\n",
              "      width: 32px;\n",
              "    }\n",
              "\n",
              "    .colab-df-convert:hover {\n",
              "      background-color: #E2EBFA;\n",
              "      box-shadow: 0px 1px 2px rgba(60, 64, 67, 0.3), 0px 1px 3px 1px rgba(60, 64, 67, 0.15);\n",
              "      fill: #174EA6;\n",
              "    }\n",
              "\n",
              "    [theme=dark] .colab-df-convert {\n",
              "      background-color: #3B4455;\n",
              "      fill: #D2E3FC;\n",
              "    }\n",
              "\n",
              "    [theme=dark] .colab-df-convert:hover {\n",
              "      background-color: #434B5C;\n",
              "      box-shadow: 0px 1px 3px 1px rgba(0, 0, 0, 0.15);\n",
              "      filter: drop-shadow(0px 1px 2px rgba(0, 0, 0, 0.3));\n",
              "      fill: #FFFFFF;\n",
              "    }\n",
              "  </style>\n",
              "\n",
              "      <script>\n",
              "        const buttonEl =\n",
              "          document.querySelector('#df-790491c0-581c-4ef6-9256-a4806e98e1a2 button.colab-df-convert');\n",
              "        buttonEl.style.display =\n",
              "          google.colab.kernel.accessAllowed ? 'block' : 'none';\n",
              "\n",
              "        async function convertToInteractive(key) {\n",
              "          const element = document.querySelector('#df-790491c0-581c-4ef6-9256-a4806e98e1a2');\n",
              "          const dataTable =\n",
              "            await google.colab.kernel.invokeFunction('convertToInteractive',\n",
              "                                                     [key], {});\n",
              "          if (!dataTable) return;\n",
              "\n",
              "          const docLinkHtml = 'Like what you see? Visit the ' +\n",
              "            '<a target=\"_blank\" href=https://colab.research.google.com/notebooks/data_table.ipynb>data table notebook</a>'\n",
              "            + ' to learn more about interactive tables.';\n",
              "          element.innerHTML = '';\n",
              "          dataTable['output_type'] = 'display_data';\n",
              "          await google.colab.output.renderOutput(dataTable, element);\n",
              "          const docLink = document.createElement('div');\n",
              "          docLink.innerHTML = docLinkHtml;\n",
              "          element.appendChild(docLink);\n",
              "        }\n",
              "      </script>\n",
              "    </div>\n",
              "  </div>\n",
              "  "
            ]
          },
          "metadata": {},
          "execution_count": 70
        }
      ]
    },
    {
      "cell_type": "code",
      "source": [
        "# pivot table between DayofWeek and Month with respect to mean of the Close_forecast in that week\n",
        "df_Stock.groupby(['DayofWeek', 'Month'])['Close_forcast'].aggregate('mean').unstack()"
      ],
      "metadata": {
        "colab": {
          "base_uri": "https://localhost:8080/",
          "height": 238
        },
        "id": "ICukwKE14FnI",
        "outputId": "ee5a61ff-cc8d-4989-bdf7-cb741ae4b168"
      },
      "execution_count": 71,
      "outputs": [
        {
          "output_type": "execute_result",
          "data": {
            "text/plain": [
              "Month             1          2          3          4          5          6   \\\n",
              "DayofWeek                                                                     \n",
              "0          81.215217  84.883261  84.967727  88.405538  88.275000  96.128154   \n",
              "1          83.003281  85.533000  85.366818  87.933906  89.791642  96.634062   \n",
              "2          82.623231  84.565574  82.898769  88.385231  91.705373  92.179524   \n",
              "3          85.466308  84.514167  83.669104  88.485625  91.067313  92.382031   \n",
              "4          84.679531  83.807377  84.599206  85.352500  93.659851  93.446769   \n",
              "\n",
              "Month              7          8          9          10         11         12  \n",
              "DayofWeek                                                                     \n",
              "0          100.063437  91.288095  85.415652  83.119846  80.634762  84.909355  \n",
              "1           98.763538  92.423333  82.510167  86.223438  79.954375  83.358889  \n",
              "2          101.299219  93.989385  82.728814  85.124769  80.754923  74.753065  \n",
              "3           98.835625  95.605846  82.823559  84.042500  83.095600  79.445469  \n",
              "4           98.915410  89.329531  83.676500  81.187778  85.021538  80.951111  "
            ],
            "text/html": [
              "\n",
              "  <div id=\"df-d22d29bf-96ce-4b08-a01c-1eaa8f8636f9\">\n",
              "    <div class=\"colab-df-container\">\n",
              "      <div>\n",
              "<style scoped>\n",
              "    .dataframe tbody tr th:only-of-type {\n",
              "        vertical-align: middle;\n",
              "    }\n",
              "\n",
              "    .dataframe tbody tr th {\n",
              "        vertical-align: top;\n",
              "    }\n",
              "\n",
              "    .dataframe thead th {\n",
              "        text-align: right;\n",
              "    }\n",
              "</style>\n",
              "<table border=\"1\" class=\"dataframe\">\n",
              "  <thead>\n",
              "    <tr style=\"text-align: right;\">\n",
              "      <th>Month</th>\n",
              "      <th>1</th>\n",
              "      <th>2</th>\n",
              "      <th>3</th>\n",
              "      <th>4</th>\n",
              "      <th>5</th>\n",
              "      <th>6</th>\n",
              "      <th>7</th>\n",
              "      <th>8</th>\n",
              "      <th>9</th>\n",
              "      <th>10</th>\n",
              "      <th>11</th>\n",
              "      <th>12</th>\n",
              "    </tr>\n",
              "    <tr>\n",
              "      <th>DayofWeek</th>\n",
              "      <th></th>\n",
              "      <th></th>\n",
              "      <th></th>\n",
              "      <th></th>\n",
              "      <th></th>\n",
              "      <th></th>\n",
              "      <th></th>\n",
              "      <th></th>\n",
              "      <th></th>\n",
              "      <th></th>\n",
              "      <th></th>\n",
              "      <th></th>\n",
              "    </tr>\n",
              "  </thead>\n",
              "  <tbody>\n",
              "    <tr>\n",
              "      <th>0</th>\n",
              "      <td>81.215217</td>\n",
              "      <td>84.883261</td>\n",
              "      <td>84.967727</td>\n",
              "      <td>88.405538</td>\n",
              "      <td>88.275000</td>\n",
              "      <td>96.128154</td>\n",
              "      <td>100.063437</td>\n",
              "      <td>91.288095</td>\n",
              "      <td>85.415652</td>\n",
              "      <td>83.119846</td>\n",
              "      <td>80.634762</td>\n",
              "      <td>84.909355</td>\n",
              "    </tr>\n",
              "    <tr>\n",
              "      <th>1</th>\n",
              "      <td>83.003281</td>\n",
              "      <td>85.533000</td>\n",
              "      <td>85.366818</td>\n",
              "      <td>87.933906</td>\n",
              "      <td>89.791642</td>\n",
              "      <td>96.634062</td>\n",
              "      <td>98.763538</td>\n",
              "      <td>92.423333</td>\n",
              "      <td>82.510167</td>\n",
              "      <td>86.223438</td>\n",
              "      <td>79.954375</td>\n",
              "      <td>83.358889</td>\n",
              "    </tr>\n",
              "    <tr>\n",
              "      <th>2</th>\n",
              "      <td>82.623231</td>\n",
              "      <td>84.565574</td>\n",
              "      <td>82.898769</td>\n",
              "      <td>88.385231</td>\n",
              "      <td>91.705373</td>\n",
              "      <td>92.179524</td>\n",
              "      <td>101.299219</td>\n",
              "      <td>93.989385</td>\n",
              "      <td>82.728814</td>\n",
              "      <td>85.124769</td>\n",
              "      <td>80.754923</td>\n",
              "      <td>74.753065</td>\n",
              "    </tr>\n",
              "    <tr>\n",
              "      <th>3</th>\n",
              "      <td>85.466308</td>\n",
              "      <td>84.514167</td>\n",
              "      <td>83.669104</td>\n",
              "      <td>88.485625</td>\n",
              "      <td>91.067313</td>\n",
              "      <td>92.382031</td>\n",
              "      <td>98.835625</td>\n",
              "      <td>95.605846</td>\n",
              "      <td>82.823559</td>\n",
              "      <td>84.042500</td>\n",
              "      <td>83.095600</td>\n",
              "      <td>79.445469</td>\n",
              "    </tr>\n",
              "    <tr>\n",
              "      <th>4</th>\n",
              "      <td>84.679531</td>\n",
              "      <td>83.807377</td>\n",
              "      <td>84.599206</td>\n",
              "      <td>85.352500</td>\n",
              "      <td>93.659851</td>\n",
              "      <td>93.446769</td>\n",
              "      <td>98.915410</td>\n",
              "      <td>89.329531</td>\n",
              "      <td>83.676500</td>\n",
              "      <td>81.187778</td>\n",
              "      <td>85.021538</td>\n",
              "      <td>80.951111</td>\n",
              "    </tr>\n",
              "  </tbody>\n",
              "</table>\n",
              "</div>\n",
              "      <button class=\"colab-df-convert\" onclick=\"convertToInteractive('df-d22d29bf-96ce-4b08-a01c-1eaa8f8636f9')\"\n",
              "              title=\"Convert this dataframe to an interactive table.\"\n",
              "              style=\"display:none;\">\n",
              "        \n",
              "  <svg xmlns=\"http://www.w3.org/2000/svg\" height=\"24px\"viewBox=\"0 0 24 24\"\n",
              "       width=\"24px\">\n",
              "    <path d=\"M0 0h24v24H0V0z\" fill=\"none\"/>\n",
              "    <path d=\"M18.56 5.44l.94 2.06.94-2.06 2.06-.94-2.06-.94-.94-2.06-.94 2.06-2.06.94zm-11 1L8.5 8.5l.94-2.06 2.06-.94-2.06-.94L8.5 2.5l-.94 2.06-2.06.94zm10 10l.94 2.06.94-2.06 2.06-.94-2.06-.94-.94-2.06-.94 2.06-2.06.94z\"/><path d=\"M17.41 7.96l-1.37-1.37c-.4-.4-.92-.59-1.43-.59-.52 0-1.04.2-1.43.59L10.3 9.45l-7.72 7.72c-.78.78-.78 2.05 0 2.83L4 21.41c.39.39.9.59 1.41.59.51 0 1.02-.2 1.41-.59l7.78-7.78 2.81-2.81c.8-.78.8-2.07 0-2.86zM5.41 20L4 18.59l7.72-7.72 1.47 1.35L5.41 20z\"/>\n",
              "  </svg>\n",
              "      </button>\n",
              "      \n",
              "  <style>\n",
              "    .colab-df-container {\n",
              "      display:flex;\n",
              "      flex-wrap:wrap;\n",
              "      gap: 12px;\n",
              "    }\n",
              "\n",
              "    .colab-df-convert {\n",
              "      background-color: #E8F0FE;\n",
              "      border: none;\n",
              "      border-radius: 50%;\n",
              "      cursor: pointer;\n",
              "      display: none;\n",
              "      fill: #1967D2;\n",
              "      height: 32px;\n",
              "      padding: 0 0 0 0;\n",
              "      width: 32px;\n",
              "    }\n",
              "\n",
              "    .colab-df-convert:hover {\n",
              "      background-color: #E2EBFA;\n",
              "      box-shadow: 0px 1px 2px rgba(60, 64, 67, 0.3), 0px 1px 3px 1px rgba(60, 64, 67, 0.15);\n",
              "      fill: #174EA6;\n",
              "    }\n",
              "\n",
              "    [theme=dark] .colab-df-convert {\n",
              "      background-color: #3B4455;\n",
              "      fill: #D2E3FC;\n",
              "    }\n",
              "\n",
              "    [theme=dark] .colab-df-convert:hover {\n",
              "      background-color: #434B5C;\n",
              "      box-shadow: 0px 1px 3px 1px rgba(0, 0, 0, 0.15);\n",
              "      filter: drop-shadow(0px 1px 2px rgba(0, 0, 0, 0.3));\n",
              "      fill: #FFFFFF;\n",
              "    }\n",
              "  </style>\n",
              "\n",
              "      <script>\n",
              "        const buttonEl =\n",
              "          document.querySelector('#df-d22d29bf-96ce-4b08-a01c-1eaa8f8636f9 button.colab-df-convert');\n",
              "        buttonEl.style.display =\n",
              "          google.colab.kernel.accessAllowed ? 'block' : 'none';\n",
              "\n",
              "        async function convertToInteractive(key) {\n",
              "          const element = document.querySelector('#df-d22d29bf-96ce-4b08-a01c-1eaa8f8636f9');\n",
              "          const dataTable =\n",
              "            await google.colab.kernel.invokeFunction('convertToInteractive',\n",
              "                                                     [key], {});\n",
              "          if (!dataTable) return;\n",
              "\n",
              "          const docLinkHtml = 'Like what you see? Visit the ' +\n",
              "            '<a target=\"_blank\" href=https://colab.research.google.com/notebooks/data_table.ipynb>data table notebook</a>'\n",
              "            + ' to learn more about interactive tables.';\n",
              "          element.innerHTML = '';\n",
              "          dataTable['output_type'] = 'display_data';\n",
              "          await google.colab.output.renderOutput(dataTable, element);\n",
              "          const docLink = document.createElement('div');\n",
              "          docLink.innerHTML = docLinkHtml;\n",
              "          element.appendChild(docLink);\n",
              "        }\n",
              "      </script>\n",
              "    </div>\n",
              "  </div>\n",
              "  "
            ]
          },
          "metadata": {},
          "execution_count": 71
        }
      ]
    },
    {
      "cell_type": "code",
      "source": [
        "df_Stock.pivot_table('Close_forcast', index='Month', columns='DayofWeek', aggfunc='sum').plot()\n",
        "plt.ylabel('total sum of stock in particular month');"
      ],
      "metadata": {
        "colab": {
          "base_uri": "https://localhost:8080/",
          "height": 449
        },
        "id": "U4A5teqx4Fjm",
        "outputId": "333b114b-de23-496c-cb81-99e07591c4d5"
      },
      "execution_count": 72,
      "outputs": [
        {
          "output_type": "display_data",
          "data": {
            "text/plain": [
              "<Figure size 640x480 with 1 Axes>"
            ],
            "image/png": "[encoded data removed]"
          },
          "metadata": {}
        }
      ]
    },
    {
      "cell_type": "markdown",
      "source": [
        "### Visualising Null values in Dataset"
      ],
      "metadata": {
        "id": "5GuJJj7B6dCa"
      }
    },
    {
      "cell_type": "code",
      "source": [
        "import missingno as msno \n",
        "msno.matrix(df_Stock)"
      ],
      "metadata": {
        "colab": {
          "base_uri": "https://localhost:8080/",
          "height": 747
        },
        "id": "IshJNdLHz94o",
        "outputId": "30911ece-a35b-4761-c633-17f1107092ff"
      },
      "execution_count": 73,
      "outputs": [
        {
          "output_type": "execute_result",
          "data": {
            "text/plain": [
              "<Axes: >"
            ]
          },
          "metadata": {},
          "execution_count": 73
        },
        {
          "output_type": "display_data",
          "data": {
            "text/plain": [
              "<Figure size 2500x1000 with 2 Axes>"
            ],
            "image/png": "[encoded data removed]"
          },
          "metadata": {}
        }
      ]
    },
    {
      "cell_type": "markdown",
      "source": [
        "### Plot Time Series chart for AAPL"
      ],
      "metadata": {
        "id": "sz-JTqmzxPwO"
      }
    },
    {
      "cell_type": "code",
      "source": [
        "df_Stock['Close'].plot(figsize=(10, 7))\n",
        "plt.title(\"Stock Price\", fontsize=17)\n",
        "plt.ylabel('Price', fontsize=14)\n",
        "plt.xlabel('Time', fontsize=14)\n",
        "plt.grid(which=\"major\", color='k', linestyle='-.', linewidth=0.5)\n",
        "plt.show()"
      ],
      "metadata": {
        "trusted": true,
        "colab": {
          "base_uri": "https://localhost:8080/",
          "height": 651
        },
        "id": "R-DRXTeaxPwO",
        "outputId": "331b4cb1-df31-4787-a169-a0850f09a3ba"
      },
      "execution_count": 74,
      "outputs": [
        {
          "output_type": "display_data",
          "data": {
            "text/plain": [
              "<Figure size 1000x700 with 1 Axes>"
            ],
            "image/png": "[encoded data removed]"
          },
          "metadata": {}
        }
      ]
    },
    {
      "cell_type": "markdown",
      "source": [
        "Remove some of the columns which are not required"
      ],
      "metadata": {
        "id": "DMhUPerTxPwO"
      }
    },
    {
      "cell_type": "code",
      "source": [
        "df_Stock = df_Stock.drop(columns='Date_col')"
      ],
      "metadata": {
        "trusted": true,
        "id": "fiMsK8fZxPwO"
      },
      "execution_count": 7,
      "outputs": []
    },
    {
      "cell_type": "markdown",
      "source": [
        "### Test Train Set"
      ],
      "metadata": {
        "id": "XJOqNcQqxPwO"
      }
    },
    {
      "cell_type": "markdown",
      "source": [
        "Close_forecast is the column that we are trying to predict here which is the price for the next day. "
      ],
      "metadata": {
        "id": "STpwaUqQxPwO"
      }
    },
    {
      "cell_type": "code",
      "source": [
        "def create_train_test_set(df_Stock):\n",
        "    \n",
        "    features = df_Stock.drop(columns=['Close_forcast'], axis=1)\n",
        "    target = df_Stock['Close_forcast']\n",
        "    \n",
        "\n",
        "    data_len = df_Stock.shape[0]\n",
        "    print('Historical Stock Data length is - ', str(data_len))\n",
        "\n",
        "    #create a chronological split for train and testing\n",
        "    train_split = int(data_len * 0.88)\n",
        "    print('Training Set length - ', str(train_split))\n",
        "\n",
        "    val_split = train_split + int(data_len * 0.1)\n",
        "    print('Validation Set length - ', str(int(data_len * 0.1)))\n",
        "\n",
        "    print('Test Set length - ', str(int(data_len * 0.02)))\n",
        "\n",
        "    # Splitting features and target into train, validation and test samples \n",
        "    X_train, X_val, X_test = features[:train_split], features[train_split:val_split], features[val_split:]\n",
        "    Y_train, Y_val, Y_test = target[:train_split], target[train_split:val_split], target[val_split:]\n",
        "\n",
        "    #print shape of samples\n",
        "    print(X_train.shape, X_val.shape, X_test.shape)\n",
        "    print(Y_train.shape, Y_val.shape, Y_test.shape)\n",
        "    \n",
        "    return X_train, X_val, X_test, Y_train, Y_val, Y_test"
      ],
      "metadata": {
        "trusted": true,
        "id": "Fm38l-KVxPwP"
      },
      "execution_count": 48,
      "outputs": []
    },
    {
      "cell_type": "code",
      "source": [
        "X_train, X_val, X_test, Y_train, Y_val, Y_test = create_train_test_set(df_Stock)"
      ],
      "metadata": {
        "trusted": true,
        "colab": {
          "base_uri": "https://localhost:8080/"
        },
        "id": "DAkDulWdxPwP",
        "outputId": "0f540212-22ff-4e0c-b00b-8521d356d269"
      },
      "execution_count": 49,
      "outputs": [
        {
          "output_type": "stream",
          "name": "stdout",
          "text": [
            "Historical Stock Data length is -  3732\n",
            "Training Set length -  3284\n",
            "Validation Set length -  373\n",
            "Test Set length -  74\n",
            "(3284, 62) (373, 62) (75, 62)\n",
            "(3284,) (373,) (75,)\n"
          ]
        }
      ]
    },
    {
      "cell_type": "code",
      "source": [
        "data = {'Historical Stock Data':3732, 'Training Set':3284, 'Validation Set':373,'Test Set':74}\n",
        "col = list(data.keys())\n",
        "value = list(data.values())\n",
        "  \n",
        "fig = plt.figure(figsize = (10, 5))\n",
        "plt.bar(col, value, color ='maroon', width = 0.4)\n",
        "plt.xlabel(\"Data Sets\")\n",
        "plt.ylabel(\"Lenght of the Dataset\")\n",
        "plt.title(\"Data sets Length\")\n",
        "plt.show()"
      ],
      "metadata": {
        "colab": {
          "base_uri": "https://localhost:8080/",
          "height": 487
        },
        "id": "jrEsS3kEDmVf",
        "outputId": "ff91386e-f36f-4bf8-90bb-d4b983000518"
      },
      "execution_count": 45,
      "outputs": [
        {
          "output_type": "display_data",
          "data": {
            "text/plain": [
              "<Figure size 1000x500 with 1 Axes>"
            ],
            "image/png": "[encoded data removed]"
          },
          "metadata": {}
        }
      ]
    },
    {
      "cell_type": "markdown",
      "source": [
        "### Prediction using Linear Regression"
      ],
      "metadata": {
        "id": "DRRVV1OLxPwP"
      }
    },
    {
      "cell_type": "code",
      "source": [
        "from sklearn.linear_model import LinearRegression\n",
        "\n",
        "lr = LinearRegression()\n",
        "lr.fit(X_train, Y_train)"
      ],
      "metadata": {
        "trusted": true,
        "colab": {
          "base_uri": "https://localhost:8080/",
          "height": 75
        },
        "id": "LKpauyj7xPwP",
        "outputId": "66af0c1b-763e-426b-ed64-ec61279bb2a3"
      },
      "execution_count": 10,
      "outputs": [
        {
          "output_type": "execute_result",
          "data": {
            "text/plain": [
              "LinearRegression()"
            ],
            "text/html": [
              "<style>#sk-container-id-1 {color: black;background-color: white;}#sk-container-id-1 pre{padding: 0;}#sk-container-id-1 div.sk-toggleable {background-color: white;}#sk-container-id-1 label.sk-toggleable__label {cursor: pointer;display: block;width: 100%;margin-bottom: 0;padding: 0.3em;box-sizing: border-box;text-align: center;}#sk-container-id-1 label.sk-toggleable__label-arrow:before {content: \"▸\";float: left;margin-right: 0.25em;color: #696969;}#sk-container-id-1 label.sk-toggleable__label-arrow:hover:before {color: black;}#sk-container-id-1 div.sk-estimator:hover label.sk-toggleable__label-arrow:before {color: black;}#sk-container-id-1 div.sk-toggleable__content {max-height: 0;max-width: 0;overflow: hidden;text-align: left;background-color: #f0f8ff;}#sk-container-id-1 div.sk-toggleable__content pre {margin: 0.2em;color: black;border-radius: 0.25em;background-color: #f0f8ff;}#sk-container-id-1 input.sk-toggleable__control:checked~div.sk-toggleable__content {max-height: 200px;max-width: 100%;overflow: auto;}#sk-container-id-1 input.sk-toggleable__control:checked~label.sk-toggleable__label-arrow:before {content: \"▾\";}#sk-container-id-1 div.sk-estimator input.sk-toggleable__control:checked~label.sk-toggleable__label {background-color: #d4ebff;}#sk-container-id-1 div.sk-label input.sk-toggleable__control:checked~label.sk-toggleable__label {background-color: #d4ebff;}#sk-container-id-1 input.sk-hidden--visually {border: 0;clip: rect(1px 1px 1px 1px);clip: rect(1px, 1px, 1px, 1px);height: 1px;margin: -1px;overflow: hidden;padding: 0;position: absolute;width: 1px;}#sk-container-id-1 div.sk-estimator {font-family: monospace;background-color: #f0f8ff;border: 1px dotted black;border-radius: 0.25em;box-sizing: border-box;margin-bottom: 0.5em;}#sk-container-id-1 div.sk-estimator:hover {background-color: #d4ebff;}#sk-container-id-1 div.sk-parallel-item::after {content: \"\";width: 100%;border-bottom: 1px solid gray;flex-grow: 1;}#sk-container-id-1 div.sk-label:hover label.sk-toggleable__label {background-color: #d4ebff;}#sk-container-id-1 div.sk-serial::before {content: \"\";position: absolute;border-left: 1px solid gray;box-sizing: border-box;top: 0;bottom: 0;left: 50%;z-index: 0;}#sk-container-id-1 div.sk-serial {display: flex;flex-direction: column;align-items: center;background-color: white;padding-right: 0.2em;padding-left: 0.2em;position: relative;}#sk-container-id-1 div.sk-item {position: relative;z-index: 1;}#sk-container-id-1 div.sk-parallel {display: flex;align-items: stretch;justify-content: center;background-color: white;position: relative;}#sk-container-id-1 div.sk-item::before, #sk-container-id-1 div.sk-parallel-item::before {content: \"\";position: absolute;border-left: 1px solid gray;box-sizing: border-box;top: 0;bottom: 0;left: 50%;z-index: -1;}#sk-container-id-1 div.sk-parallel-item {display: flex;flex-direction: column;z-index: 1;position: relative;background-color: white;}#sk-container-id-1 div.sk-parallel-item:first-child::after {align-self: flex-end;width: 50%;}#sk-container-id-1 div.sk-parallel-item:last-child::after {align-self: flex-start;width: 50%;}#sk-container-id-1 div.sk-parallel-item:only-child::after {width: 0;}#sk-container-id-1 div.sk-dashed-wrapped {border: 1px dashed gray;margin: 0 0.4em 0.5em 0.4em;box-sizing: border-box;padding-bottom: 0.4em;background-color: white;}#sk-container-id-1 div.sk-label label {font-family: monospace;font-weight: bold;display: inline-block;line-height: 1.2em;}#sk-container-id-1 div.sk-label-container {text-align: center;}#sk-container-id-1 div.sk-container {/* jupyter's `normalize.less` sets `[hidden] { display: none; }` but bootstrap.min.css set `[hidden] { display: none !important; }` so we also need the `!important` here to be able to override the default hidden behavior on the sphinx rendered scikit-learn.org. See: https://github.com/scikit-learn/scikit-learn/issues/21755 */display: inline-block !important;position: relative;}#sk-container-id-1 div.sk-text-repr-fallback {display: none;}</style><div id=\"sk-container-id-1\" class=\"sk-top-container\"><div class=\"sk-text-repr-fallback\"><pre>LinearRegression()</pre><b>In a Jupyter environment, please rerun this cell to show the HTML representation or trust the notebook. <br />On GitHub, the HTML representation is unable to render, please try loading this page with nbviewer.org.</b></div><div class=\"sk-container\" hidden><div class=\"sk-item\"><div class=\"sk-estimator sk-toggleable\"><input class=\"sk-toggleable__control sk-hidden--visually\" id=\"sk-estimator-id-1\" type=\"checkbox\" checked><label for=\"sk-estimator-id-1\" class=\"sk-toggleable__label sk-toggleable__label-arrow\">LinearRegression</label><div class=\"sk-toggleable__content\"><pre>LinearRegression()</pre></div></div></div></div></div>"
            ]
          },
          "metadata": {},
          "execution_count": 10
        }
      ]
    },
    {
      "cell_type": "code",
      "source": [
        "print('LR Coefficients: \\n', lr.coef_)\n",
        "print('LR Intercept: \\n', lr.intercept_)"
      ],
      "metadata": {
        "_uuid": "d629ff2d2480ee46fbb7e2d37f6b5fab8052498a",
        "_cell_guid": "79c7e3d0-c299-4dcb-8224-4455121ee9b0",
        "trusted": true,
        "colab": {
          "base_uri": "https://localhost:8080/"
        },
        "id": "R2h2IPF6xPwQ",
        "outputId": "c35b88e7-f980-4ad1-ea8e-0925e6e81995"
      },
      "execution_count": 11,
      "outputs": [
        {
          "output_type": "stream",
          "name": "stdout",
          "text": [
            "LR Coefficients: \n",
            " [ 8.63720651e-03  1.86051924e-01  1.55487061e-01  1.12263757e+00\n",
            "  1.27286976e-10  6.75244700e-03  1.40229152e-01  1.13219364e-01\n",
            "  4.25627561e-02  8.96348479e-02  1.01914952e-01  5.94183536e-02\n",
            "  7.95194233e-02  7.10399945e-02  2.71425000e-01  1.26724258e-01\n",
            "  8.79333221e-02 -5.87980378e-03 -3.31643390e-01 -3.31643390e-01\n",
            " -3.31643390e-01 -3.31643390e-01 -3.31643390e-01  1.88650006e+00\n",
            " -1.27270717e+00 -1.65042222e-01 -4.36658326e-04 -3.21581043e-12\n",
            " -5.07434282e-03  9.02936549e-03  5.78316988e-04  5.78316984e-04\n",
            " -5.57918089e-01 -2.02305062e-10  4.18931556e-11  1.69322438e-02\n",
            "  1.61636704e-02 -1.75659582e-02  6.12165520e-03  2.15420350e-01\n",
            "  1.13979655e-01 -2.41954674e-01  7.63050309e-02  3.73276597e-01\n",
            " -1.66533454e-16 -5.60843989e-02  4.08788806e-02  5.13473863e-01\n",
            " -2.94431539e-02 -8.41335081e-02  5.10939135e-02 -8.14435710e-03\n",
            " -1.95035197e-02  5.67587251e-02  4.39707788e-02  1.29311738e-02\n",
            " -9.99967545e-03 -3.89778364e-03 -1.62174814e-03  1.44436900e-03\n",
            "  2.83455424e-04]\n",
            "LR Intercept: \n",
            " -83.36486410471282\n"
          ]
        }
      ]
    },
    {
      "cell_type": "markdown",
      "source": [
        "### Evaluation"
      ],
      "metadata": {
        "id": "5ADE3zCMxPwQ"
      }
    },
    {
      "cell_type": "code",
      "source": [
        "print(\"Performance (R^2): \", lr.score(X_train, Y_train))"
      ],
      "metadata": {
        "trusted": true,
        "colab": {
          "base_uri": "https://localhost:8080/"
        },
        "id": "mXbG9BMLxPwQ",
        "outputId": "c82c10de-652f-4676-f2c4-b754a21a52b1"
      },
      "execution_count": 12,
      "outputs": [
        {
          "output_type": "stream",
          "name": "stdout",
          "text": [
            "Performance (R^2):  0.9994516474373267\n"
          ]
        }
      ]
    },
    {
      "cell_type": "code",
      "source": [
        "def get_mape(y_true, y_pred): \n",
        "    \"\"\"\n",
        "    Compute mean absolute percentage error (MAPE)\n",
        "    \"\"\"\n",
        "    y_true, y_pred = np.array(y_true), np.array(y_pred)\n",
        "    return np.mean(np.abs((y_true - y_pred) / y_true)) * 100"
      ],
      "metadata": {
        "trusted": true,
        "id": "yrs9OCs0xPwQ"
      },
      "execution_count": 13,
      "outputs": []
    },
    {
      "cell_type": "markdown",
      "source": [
        "### Predict for the test dataset"
      ],
      "metadata": {
        "id": "4jPZ6zA6xPwQ"
      }
    },
    {
      "cell_type": "code",
      "source": [
        "Y_train_pred = lr.predict(X_train)\n",
        "Y_val_pred = lr.predict(X_val)\n",
        "Y_test_pred = lr.predict(X_test)"
      ],
      "metadata": {
        "trusted": true,
        "id": "mvZj1njKxPwQ"
      },
      "execution_count": 14,
      "outputs": []
    },
    {
      "cell_type": "code",
      "source": [
        "from prettytable import PrettyTable\n",
        " \n",
        "# Specify the Column Names while initializing the Table\n",
        "myTable = PrettyTable([\"Dataset Type\", \"R-squared\", \"Explained Variation\", \"MAPE\", \"Mean Squared Error\", \"RMSE\", \"MAE\"])\n",
        " \n",
        "# Add rows\n",
        "myTable.add_row([\"Training\", round(metrics.r2_score(Y_train,Y_train_pred),2), round(metrics.explained_variance_score(Y_train,Y_train_pred),2), round(get_mape(Y_train,Y_train_pred), 2), round(metrics.mean_squared_error(Y_train,Y_train_pred), 2), round(np.sqrt(metrics.mean_squared_error(Y_train,Y_train_pred)),2), round(metrics.mean_absolute_error(Y_train,Y_train_pred),2)])\n",
        "myTable.add_row([\"Validation\", round(metrics.r2_score(Y_val,Y_val_pred),2), round(metrics.explained_variance_score(Y_val,Y_val_pred),2), round(get_mape(Y_val,Y_val_pred), 2) , round(metrics.mean_squared_error(Y_train,Y_train_pred), 2), round(np.sqrt(metrics.mean_squared_error(Y_val,Y_val_pred)),2), round(metrics.mean_absolute_error(Y_val,Y_val_pred),2)])\n",
        "myTable.add_row([\"Test\", round(metrics.r2_score(Y_test,Y_test_pred),2), round(metrics.explained_variance_score(Y_test,Y_test_pred),2), round(get_mape(Y_test,Y_test_pred), 2), round(metrics.mean_squared_error(Y_test,Y_test_pred), 2), round(np.sqrt(metrics.mean_squared_error(Y_test,Y_test_pred)),2), round(metrics.mean_absolute_error(Y_test,Y_test_pred),2)])\n",
        "print(myTable)\n"
      ],
      "metadata": {
        "colab": {
          "base_uri": "https://localhost:8080/"
        },
        "id": "yhfuNcOEIMZc",
        "outputId": "3a1243cc-fed3-489d-dabb-add58ca3eef7"
      },
      "execution_count": 80,
      "outputs": [
        {
          "output_type": "stream",
          "name": "stdout",
          "text": [
            "+--------------+-----------+---------------------+------+--------------------+------+------+\n",
            "| Dataset Type | R-squared | Explained Variation | MAPE | Mean Squared Error | RMSE | MAE  |\n",
            "+--------------+-----------+---------------------+------+--------------------+------+------+\n",
            "|   Training   |    1.0    |         1.0         | 1.45 |        1.48        | 1.22 | 0.76 |\n",
            "|  Validation  |    0.99   |         0.99        | 1.68 |        1.48        | 5.91 | 3.75 |\n",
            "|     Test     |    0.96   |         0.97        | 1.77 |       79.21        | 8.9  | 6.5  |\n",
            "+--------------+-----------+---------------------+------+--------------------+------+------+\n"
          ]
        }
      ]
    },
    {
      "cell_type": "markdown",
      "source": [
        "# OR\n"
      ],
      "metadata": {
        "id": "XIUtoDavK1tH"
      }
    },
    {
      "cell_type": "code",
      "source": [
        "print(\"Training R-squared: \",round(metrics.r2_score(Y_train,Y_train_pred),2))\n",
        "print(\"Training Explained Variation: \",round(metrics.explained_variance_score(Y_train,Y_train_pred),2))\n",
        "print('Training MAPE:', round(get_mape(Y_train,Y_train_pred), 2)) \n",
        "print('Training Mean Squared Error:', round(metrics.mean_squared_error(Y_train,Y_train_pred), 2)) \n",
        "print(\"Training RMSE: \",round(np.sqrt(metrics.mean_squared_error(Y_train,Y_train_pred)),2))\n",
        "print(\"Training MAE: \",round(metrics.mean_absolute_error(Y_train,Y_train_pred),2))\n",
        "\n",
        "print(' ')\n",
        "\n",
        "print(\"Validation R-squared: \",round(metrics.r2_score(Y_val,Y_val_pred),2))\n",
        "print(\"Validation Explained Variation: \",round(metrics.explained_variance_score(Y_val,Y_val_pred),2))\n",
        "print('Validation MAPE:', round(get_mape(Y_val,Y_val_pred), 2)) \n",
        "print('Validation Mean Squared Error:', round(metrics.mean_squared_error(Y_train,Y_train_pred), 2)) \n",
        "print(\"Validation RMSE: \",round(np.sqrt(metrics.mean_squared_error(Y_val,Y_val_pred)),2))\n",
        "print(\"Validation MAE: \",round(metrics.mean_absolute_error(Y_val,Y_val_pred),2))\n",
        "\n",
        "print(' ')\n",
        "\n",
        "print(\"Test R-squared: \",round(metrics.r2_score(Y_test,Y_test_pred),2))\n",
        "print(\"Test Explained Variation: \",round(metrics.explained_variance_score(Y_test,Y_test_pred),2))\n",
        "print('Test MAPE:', round(get_mape(Y_test,Y_test_pred), 2)) \n",
        "print('Test Mean Squared Error:', round(metrics.mean_squared_error(Y_test,Y_test_pred), 2)) \n",
        "print(\"Test RMSE: \",round(np.sqrt(metrics.mean_squared_error(Y_test,Y_test_pred)),2))\n",
        "print(\"Test MAE: \",round(metrics.mean_absolute_error(Y_test,Y_test_pred),2))"
      ],
      "metadata": {
        "trusted": true,
        "colab": {
          "base_uri": "https://localhost:8080/"
        },
        "id": "rpQLfBPNxPwR",
        "outputId": "d42621ce-633d-4e0d-ac13-dfe9ab9a3504"
      },
      "execution_count": 15,
      "outputs": [
        {
          "output_type": "stream",
          "name": "stdout",
          "text": [
            "Training R-squared:  1.0\n",
            "Training Explained Variation:  1.0\n",
            "Training MAPE: 1.45\n",
            "Training Mean Squared Error: 1.48\n",
            "Training RMSE:  1.22\n",
            "Training MAE:  0.76\n",
            " \n",
            "Validation R-squared:  0.99\n",
            "Validation Explained Variation:  0.99\n",
            "Validation MAPE: 1.68\n",
            "Validation Mean Squared Error: 1.48\n",
            "Validation RMSE:  5.91\n",
            "Validation MAE:  3.75\n",
            " \n",
            "Test R-squared:  0.96\n",
            "Test Explained Variation:  0.97\n",
            "Test MAPE: 1.77\n",
            "Test Mean Squared Error: 79.21\n",
            "Test RMSE:  8.9\n",
            "Test MAE:  6.5\n"
          ]
        }
      ]
    },
    {
      "cell_type": "markdown",
      "source": [
        "We have a decent Mean Absolute error but not great. I will create further tuned models in later notebooks. This is just to get you started with the dataset."
      ],
      "metadata": {
        "id": "r90HnYYLxPwR"
      }
    },
    {
      "cell_type": "code",
      "source": [
        "df_pred = pd.DataFrame(Y_val.values, columns=['Actual'], index=Y_val.index)\n",
        "df_pred['Predicted'] = Y_val_pred\n",
        "df_pred = df_pred.reset_index()\n",
        "df_pred.loc[:, 'Date'] = pd.to_datetime(df_pred['Date'],format='%Y-%m-%d')\n",
        "df_pred"
      ],
      "metadata": {
        "trusted": true,
        "colab": {
          "base_uri": "https://localhost:8080/",
          "height": 478
        },
        "id": "Lmv7AP3zxPwR",
        "outputId": "7da8f6fa-de5a-4067-f7ed-09ee9df4cbd2"
      },
      "execution_count": 16,
      "outputs": [
        {
          "output_type": "stream",
          "name": "stderr",
          "text": [
            "<ipython-input-16-eb2d0977aa50>:4: DeprecationWarning: In a future version, `df.iloc[:, i] = newvals` will attempt to set the values inplace instead of always setting a new array. To retain the old behavior, use either `df[df.columns[i]] = newvals` or, if columns are non-unique, `df.isetitem(i, newvals)`\n",
            "  df_pred.loc[:, 'Date'] = pd.to_datetime(df_pred['Date'],format='%Y-%m-%d')\n"
          ]
        },
        {
          "output_type": "execute_result",
          "data": {
            "text/plain": [
              "          Date  Actual   Predicted\n",
              "0   2018-11-01  202.30  216.289778\n",
              "1   2018-11-02  196.56  201.470182\n",
              "2   2018-11-05  198.68  195.948933\n",
              "3   2018-11-06  204.71  199.043601\n",
              "4   2018-11-07  204.00  204.193666\n",
              "..         ...     ...         ...\n",
              "368 2020-04-22  273.79  275.751755\n",
              "369 2020-04-23  281.70  274.020243\n",
              "370 2020-04-24  281.90  280.710045\n",
              "371 2020-04-27  277.33  280.543603\n",
              "372 2020-04-28  286.44  276.562125\n",
              "\n",
              "[373 rows x 3 columns]"
            ],
            "text/html": [
              "\n",
              "  <div id=\"df-494a896f-2c49-4a69-833b-b144cc4a4997\">\n",
              "    <div class=\"colab-df-container\">\n",
              "      <div>\n",
              "<style scoped>\n",
              "    .dataframe tbody tr th:only-of-type {\n",
              "        vertical-align: middle;\n",
              "    }\n",
              "\n",
              "    .dataframe tbody tr th {\n",
              "        vertical-align: top;\n",
              "    }\n",
              "\n",
              "    .dataframe thead th {\n",
              "        text-align: right;\n",
              "    }\n",
              "</style>\n",
              "<table border=\"1\" class=\"dataframe\">\n",
              "  <thead>\n",
              "    <tr style=\"text-align: right;\">\n",
              "      <th></th>\n",
              "      <th>Date</th>\n",
              "      <th>Actual</th>\n",
              "      <th>Predicted</th>\n",
              "    </tr>\n",
              "  </thead>\n",
              "  <tbody>\n",
              "    <tr>\n",
              "      <th>0</th>\n",
              "      <td>2018-11-01</td>\n",
              "      <td>202.30</td>\n",
              "      <td>216.289778</td>\n",
              "    </tr>\n",
              "    <tr>\n",
              "      <th>1</th>\n",
              "      <td>2018-11-02</td>\n",
              "      <td>196.56</td>\n",
              "      <td>201.470182</td>\n",
              "    </tr>\n",
              "    <tr>\n",
              "      <th>2</th>\n",
              "      <td>2018-11-05</td>\n",
              "      <td>198.68</td>\n",
              "      <td>195.948933</td>\n",
              "    </tr>\n",
              "    <tr>\n",
              "      <th>3</th>\n",
              "      <td>2018-11-06</td>\n",
              "      <td>204.71</td>\n",
              "      <td>199.043601</td>\n",
              "    </tr>\n",
              "    <tr>\n",
              "      <th>4</th>\n",
              "      <td>2018-11-07</td>\n",
              "      <td>204.00</td>\n",
              "      <td>204.193666</td>\n",
              "    </tr>\n",
              "    <tr>\n",
              "      <th>...</th>\n",
              "      <td>...</td>\n",
              "      <td>...</td>\n",
              "      <td>...</td>\n",
              "    </tr>\n",
              "    <tr>\n",
              "      <th>368</th>\n",
              "      <td>2020-04-22</td>\n",
              "      <td>273.79</td>\n",
              "      <td>275.751755</td>\n",
              "    </tr>\n",
              "    <tr>\n",
              "      <th>369</th>\n",
              "      <td>2020-04-23</td>\n",
              "      <td>281.70</td>\n",
              "      <td>274.020243</td>\n",
              "    </tr>\n",
              "    <tr>\n",
              "      <th>370</th>\n",
              "      <td>2020-04-24</td>\n",
              "      <td>281.90</td>\n",
              "      <td>280.710045</td>\n",
              "    </tr>\n",
              "    <tr>\n",
              "      <th>371</th>\n",
              "      <td>2020-04-27</td>\n",
              "      <td>277.33</td>\n",
              "      <td>280.543603</td>\n",
              "    </tr>\n",
              "    <tr>\n",
              "      <th>372</th>\n",
              "      <td>2020-04-28</td>\n",
              "      <td>286.44</td>\n",
              "      <td>276.562125</td>\n",
              "    </tr>\n",
              "  </tbody>\n",
              "</table>\n",
              "<p>373 rows × 3 columns</p>\n",
              "</div>\n",
              "      <button class=\"colab-df-convert\" onclick=\"convertToInteractive('df-494a896f-2c49-4a69-833b-b144cc4a4997')\"\n",
              "              title=\"Convert this dataframe to an interactive table.\"\n",
              "              style=\"display:none;\">\n",
              "        \n",
              "  <svg xmlns=\"http://www.w3.org/2000/svg\" height=\"24px\"viewBox=\"0 0 24 24\"\n",
              "       width=\"24px\">\n",
              "    <path d=\"M0 0h24v24H0V0z\" fill=\"none\"/>\n",
              "    <path d=\"M18.56 5.44l.94 2.06.94-2.06 2.06-.94-2.06-.94-.94-2.06-.94 2.06-2.06.94zm-11 1L8.5 8.5l.94-2.06 2.06-.94-2.06-.94L8.5 2.5l-.94 2.06-2.06.94zm10 10l.94 2.06.94-2.06 2.06-.94-2.06-.94-.94-2.06-.94 2.06-2.06.94z\"/><path d=\"M17.41 7.96l-1.37-1.37c-.4-.4-.92-.59-1.43-.59-.52 0-1.04.2-1.43.59L10.3 9.45l-7.72 7.72c-.78.78-.78 2.05 0 2.83L4 21.41c.39.39.9.59 1.41.59.51 0 1.02-.2 1.41-.59l7.78-7.78 2.81-2.81c.8-.78.8-2.07 0-2.86zM5.41 20L4 18.59l7.72-7.72 1.47 1.35L5.41 20z\"/>\n",
              "  </svg>\n",
              "      </button>\n",
              "      \n",
              "  <style>\n",
              "    .colab-df-container {\n",
              "      display:flex;\n",
              "      flex-wrap:wrap;\n",
              "      gap: 12px;\n",
              "    }\n",
              "\n",
              "    .colab-df-convert {\n",
              "      background-color: #E8F0FE;\n",
              "      border: none;\n",
              "      border-radius: 50%;\n",
              "      cursor: pointer;\n",
              "      display: none;\n",
              "      fill: #1967D2;\n",
              "      height: 32px;\n",
              "      padding: 0 0 0 0;\n",
              "      width: 32px;\n",
              "    }\n",
              "\n",
              "    .colab-df-convert:hover {\n",
              "      background-color: #E2EBFA;\n",
              "      box-shadow: 0px 1px 2px rgba(60, 64, 67, 0.3), 0px 1px 3px 1px rgba(60, 64, 67, 0.15);\n",
              "      fill: #174EA6;\n",
              "    }\n",
              "\n",
              "    [theme=dark] .colab-df-convert {\n",
              "      background-color: #3B4455;\n",
              "      fill: #D2E3FC;\n",
              "    }\n",
              "\n",
              "    [theme=dark] .colab-df-convert:hover {\n",
              "      background-color: #434B5C;\n",
              "      box-shadow: 0px 1px 3px 1px rgba(0, 0, 0, 0.15);\n",
              "      filter: drop-shadow(0px 1px 2px rgba(0, 0, 0, 0.3));\n",
              "      fill: #FFFFFF;\n",
              "    }\n",
              "  </style>\n",
              "\n",
              "      <script>\n",
              "        const buttonEl =\n",
              "          document.querySelector('#df-494a896f-2c49-4a69-833b-b144cc4a4997 button.colab-df-convert');\n",
              "        buttonEl.style.display =\n",
              "          google.colab.kernel.accessAllowed ? 'block' : 'none';\n",
              "\n",
              "        async function convertToInteractive(key) {\n",
              "          const element = document.querySelector('#df-494a896f-2c49-4a69-833b-b144cc4a4997');\n",
              "          const dataTable =\n",
              "            await google.colab.kernel.invokeFunction('convertToInteractive',\n",
              "                                                     [key], {});\n",
              "          if (!dataTable) return;\n",
              "\n",
              "          const docLinkHtml = 'Like what you see? Visit the ' +\n",
              "            '<a target=\"_blank\" href=https://colab.research.google.com/notebooks/data_table.ipynb>data table notebook</a>'\n",
              "            + ' to learn more about interactive tables.';\n",
              "          element.innerHTML = '';\n",
              "          dataTable['output_type'] = 'display_data';\n",
              "          await google.colab.output.renderOutput(dataTable, element);\n",
              "          const docLink = document.createElement('div');\n",
              "          docLink.innerHTML = docLinkHtml;\n",
              "          element.appendChild(docLink);\n",
              "        }\n",
              "      </script>\n",
              "    </div>\n",
              "  </div>\n",
              "  "
            ]
          },
          "metadata": {},
          "execution_count": 16
        }
      ]
    },
    {
      "cell_type": "markdown",
      "source": [
        "### Plot Predicted vs Actual Prices on Time Series plot"
      ],
      "metadata": {
        "id": "YfRqsSaOxPwR"
      }
    },
    {
      "cell_type": "code",
      "source": [
        "df_pred[['Actual', 'Predicted']].plot()"
      ],
      "metadata": {
        "trusted": true,
        "colab": {
          "base_uri": "https://localhost:8080/",
          "height": 447
        },
        "id": "p9LBgqdtxPwR",
        "outputId": "bbc5f72d-a830-486d-afb6-44c1921d14a7"
      },
      "execution_count": 17,
      "outputs": [
        {
          "output_type": "execute_result",
          "data": {
            "text/plain": [
              "<Axes: >"
            ]
          },
          "metadata": {},
          "execution_count": 17
        },
        {
          "output_type": "display_data",
          "data": {
            "text/plain": [
              "<Figure size 640x480 with 1 Axes>"
            ],
            "image/png": "[encoded data removed]"
          },
          "metadata": {}
        }
      ]
    },
    {
      "cell_type": "markdown",
      "source": [
        "Overall the Predictions looks good for the test data! "
      ],
      "metadata": {
        "id": "u16lFqz5xPwR"
      }
    },
    {
      "cell_type": "markdown",
      "source": [
        "### Future Notebooks\n",
        "\n",
        "I will create a Notebook explaining how I have extracted this data using only OHLC(Open High Low Close) data and a custom pipeline"
      ],
      "metadata": {
        "id": "sYQhQiE8xPwS"
      }
    },
    {
      "cell_type": "code",
      "source": [],
      "metadata": {
        "id": "NRoqL8L5xyXL"
      },
      "execution_count": 17,
      "outputs": []
    }
  ]
}